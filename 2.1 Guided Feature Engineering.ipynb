{
 "cells": [
  {
   "cell_type": "code",
   "execution_count": 1,
   "metadata": {},
   "outputs": [],
   "source": [
    "import tarfile\n",
    "from sklearn.feature_extraction.text import CountVectorizer\n",
    "from sklearn.linear_model import LogisticRegression\n",
    "from sklearn import preprocessing\n",
    "from sklearn.feature_extraction.text import TfidfVectorizer\n",
    "import numpy as np\n",
    "import pandas as pd\n",
    "import matplotlib.pyplot as plt\n",
    "from sklearn import metrics"
   ]
  },
  {
   "cell_type": "code",
   "execution_count": 2,
   "metadata": {
    "id": "_E5aZNVkJcbn"
   },
   "outputs": [],
   "source": [
    "tarfname = \"data/sentiment.tar.gz\""
   ]
  },
  {
   "cell_type": "code",
   "execution_count": 3,
   "metadata": {
    "id": "H97Hv2xKJsI8"
   },
   "outputs": [],
   "source": [
    "tar = tarfile.open(tarfname, \"r:gz\")\n",
    "trainname = \"train.tsv\"\n",
    "devname = \"dev.tsv\"\n",
    "for member in tar.getmembers():\n",
    "    if 'train.tsv' in member.name:\n",
    "        trainname = member.name\n",
    "    elif 'dev.tsv' in member.name:\n",
    "        devname = member.name"
   ]
  },
  {
   "cell_type": "code",
   "execution_count": 4,
   "metadata": {
    "id": "iZu5qWFVJtwm"
   },
   "outputs": [],
   "source": [
    "member = tar.getmember(trainname)\n",
    "tf = tar.extractfile(member)\n",
    "data = []\n",
    "labels = []\n",
    "for line in tf:\n",
    "    line = line.decode(\"utf-8\")\n",
    "    (label,text) = line.strip().split(\"\\t\")\n",
    "    labels.append(label)\n",
    "    data.append(text)\n",
    "train_data,train_labels=data, labels"
   ]
  },
  {
   "cell_type": "code",
   "execution_count": 5,
   "metadata": {
    "id": "nNVIDSbhJ2Bw"
   },
   "outputs": [],
   "source": [
    "member = tar.getmember(devname)\n",
    "tf = tar.extractfile(member)\n",
    "data = []\n",
    "labels = []\n",
    "for line in tf:\n",
    "    line = line.decode(\"utf-8\")\n",
    "    (label,text) = line.strip().split(\"\\t\")\n",
    "    labels.append(label)\n",
    "    data.append(text)\n",
    "dev_data,dev_labels=data, labels"
   ]
  },
  {
   "cell_type": "code",
   "execution_count": 6,
   "metadata": {
    "id": "mCT1Ud4jJ3kN"
   },
   "outputs": [],
   "source": [
    "count_vect = CountVectorizer()\n",
    "trainX = count_vect.fit_transform(train_data)\n",
    "devX = count_vect.transform(dev_data)"
   ]
  },
  {
   "cell_type": "code",
   "execution_count": 7,
   "metadata": {
    "id": "2w1iVN56J5Nf"
   },
   "outputs": [],
   "source": [
    "le = preprocessing.LabelEncoder()\n",
    "le.fit(train_labels)\n",
    "target_labels = le.classes_\n",
    "trainy = le.transform(train_labels)\n",
    "devy = le.transform(dev_labels)"
   ]
  },
  {
   "cell_type": "code",
   "execution_count": 8,
   "metadata": {
    "id": "1ma4PcLyKCsR"
   },
   "outputs": [],
   "source": [
    "tar.close()"
   ]
  },
  {
   "cell_type": "code",
   "execution_count": 9,
   "metadata": {
    "id": "ZxRlu2_BKEVh"
   },
   "outputs": [],
   "source": [
    "cls = LogisticRegression(random_state=0, solver='lbfgs', max_iter=10000)\n",
    "cls.fit(trainX, trainy)\n",
    "def evaluate(X, yt, cls, name='data'):\n",
    "    \"\"\"Evaluated a classifier on the given labeled data using accuracy.\"\"\"\n",
    "    yp = cls.predict(X)\n",
    "    acc = metrics.accuracy_score(yt, yp)\n",
    "    print(\"  Accuracy on %s  is: %s\" % (name, acc))\n",
    "    #return(acc)"
   ]
  },
  {
   "cell_type": "code",
   "execution_count": 10,
   "metadata": {
    "colab": {
     "base_uri": "https://localhost:8080/"
    },
    "id": "kyhH2IiIKF5p",
    "outputId": "8244cbc6-2d17-4c1a-9024-13104a3b34e3"
   },
   "outputs": [
    {
     "name": "stdout",
     "output_type": "stream",
     "text": [
      "  Accuracy on train  is: 0.9821038847664775\n",
      "  Accuracy on dev  is: 0.777292576419214\n"
     ]
    }
   ],
   "source": [
    "evaluate(trainX, trainy, cls, 'train')\n",
    "evaluate(devX, devy, cls, 'dev')"
   ]
  },
  {
   "cell_type": "markdown",
   "metadata": {
    "id": "h06gPqc0KHYL"
   },
   "source": [
    "# 2.1 Guided Feature Engineering"
   ]
  },
  {
   "cell_type": "code",
   "execution_count": 11,
   "metadata": {
    "id": "PbVrfXJwKPnI"
   },
   "outputs": [],
   "source": [
    "def evaluate1(X, yt, cls, name='data'):\n",
    "    \"\"\"Evaluated a classifier on the given labeled data using accuracy.\"\"\"\n",
    "    from sklearn import metrics\n",
    "    yp = cls.predict(X)\n",
    "    acc = metrics.accuracy_score(yt, yp)\n",
    "    #print(\"  Accuracy on %s  is: %s\" % (name, acc))\n",
    "    return(acc)"
   ]
  },
  {
   "cell_type": "code",
   "execution_count": 12,
   "metadata": {
    "id": "OXwwFcIlKQKa"
   },
   "outputs": [],
   "source": [
    "regularizer=[0.01,0.1,1,10,100]\n",
    "ngram=7\n",
    "accuraciest=[]\n",
    "accuraciesd=[]\n",
    "for j in regularizer:\n",
    "    valuest=[]\n",
    "    valuesd=[]\n",
    "    for i in range(1,ngram):\n",
    "        #print(f\"Th value of ngram={i},value of regularizer={j}\")\n",
    "        vectorizer = TfidfVectorizer(ngram_range=(1, i))\n",
    "        XTrain = vectorizer.fit_transform(train_data)\n",
    "        devTrain=vectorizer.transform(dev_data)\n",
    "        tfidf = LogisticRegression(random_state=0, solver='lbfgs', max_iter=10000,C=j)\n",
    "        tfidf.fit(XTrain, trainy)\n",
    "        valuest.append(round(evaluate1(XTrain, trainy, tfidf, 'train'),8))\n",
    "        valuesd.append(round(evaluate1(devTrain, devy, tfidf, 'dev'),8))\n",
    "    accuraciest.append(valuest)\n",
    "    accuraciesd.append(valuesd)"
   ]
  },
  {
   "cell_type": "code",
   "execution_count": 13,
   "metadata": {
    "colab": {
     "base_uri": "https://localhost:8080/"
    },
    "id": "_kVy3DxpKR-T",
    "outputId": "68152e9f-712d-42bb-a16b-497c00ecc733"
   },
   "outputs": [
    {
     "name": "stdout",
     "output_type": "stream",
     "text": [
      "Accuracies on Train\n"
     ]
    },
    {
     "data": {
      "text/html": [
       "<div>\n",
       "<style scoped>\n",
       "    .dataframe tbody tr th:only-of-type {\n",
       "        vertical-align: middle;\n",
       "    }\n",
       "\n",
       "    .dataframe tbody tr th {\n",
       "        vertical-align: top;\n",
       "    }\n",
       "\n",
       "    .dataframe thead th {\n",
       "        text-align: right;\n",
       "    }\n",
       "</style>\n",
       "<table border=\"1\" class=\"dataframe\">\n",
       "  <thead>\n",
       "    <tr style=\"text-align: right;\">\n",
       "      <th></th>\n",
       "      <th>1-gram</th>\n",
       "      <th>2-gram</th>\n",
       "      <th>3-gram</th>\n",
       "      <th>4-gram</th>\n",
       "      <th>5-gram</th>\n",
       "      <th>6-gram</th>\n",
       "    </tr>\n",
       "  </thead>\n",
       "  <tbody>\n",
       "    <tr>\n",
       "      <th>C=0.01</th>\n",
       "      <td>0.794849</td>\n",
       "      <td>0.857049</td>\n",
       "      <td>0.909865</td>\n",
       "      <td>0.946093</td>\n",
       "      <td>0.969227</td>\n",
       "      <td>0.981449</td>\n",
       "    </tr>\n",
       "    <tr>\n",
       "      <th>C=0.1</th>\n",
       "      <td>0.816674</td>\n",
       "      <td>0.877128</td>\n",
       "      <td>0.923178</td>\n",
       "      <td>0.953950</td>\n",
       "      <td>0.975557</td>\n",
       "      <td>0.984286</td>\n",
       "    </tr>\n",
       "    <tr>\n",
       "      <th>C=1</th>\n",
       "      <td>0.902008</td>\n",
       "      <td>0.957006</td>\n",
       "      <td>0.980140</td>\n",
       "      <td>0.990615</td>\n",
       "      <td>0.997599</td>\n",
       "      <td>0.998472</td>\n",
       "    </tr>\n",
       "    <tr>\n",
       "      <th>C=10</th>\n",
       "      <td>0.985159</td>\n",
       "      <td>1.000000</td>\n",
       "      <td>1.000000</td>\n",
       "      <td>1.000000</td>\n",
       "      <td>1.000000</td>\n",
       "      <td>1.000000</td>\n",
       "    </tr>\n",
       "    <tr>\n",
       "      <th>C=100</th>\n",
       "      <td>1.000000</td>\n",
       "      <td>1.000000</td>\n",
       "      <td>1.000000</td>\n",
       "      <td>1.000000</td>\n",
       "      <td>1.000000</td>\n",
       "      <td>1.000000</td>\n",
       "    </tr>\n",
       "  </tbody>\n",
       "</table>\n",
       "</div>"
      ],
      "text/plain": [
       "          1-gram    2-gram    3-gram    4-gram    5-gram    6-gram\n",
       "C=0.01  0.794849  0.857049  0.909865  0.946093  0.969227  0.981449\n",
       "C=0.1   0.816674  0.877128  0.923178  0.953950  0.975557  0.984286\n",
       "C=1     0.902008  0.957006  0.980140  0.990615  0.997599  0.998472\n",
       "C=10    0.985159  1.000000  1.000000  1.000000  1.000000  1.000000\n",
       "C=100   1.000000  1.000000  1.000000  1.000000  1.000000  1.000000"
      ]
     },
     "execution_count": 13,
     "metadata": {},
     "output_type": "execute_result"
    }
   ],
   "source": [
    "accuraciestpd = np.array(accuraciest)\n",
    "print(\"Accuracies on Train\")\n",
    "df = pd.DataFrame(accuraciest,     index=[\"C=0.01\",\"C=0.1\",\"C=1\",\"C=10\",\"C=100\"],\n",
    "                 columns=['1-gram', '2-gram','3-gram','4-gram','5-gram','6-gram'])\n",
    "# for i in range(len(accuraciest)):\n",
    "#     print(\"C=\",regularizer[i],end=\"\\t\\t\")\n",
    "#     for j in range(len(accuraciest[0])):\n",
    "#         print(j,\"-gram\",accuraciest[i][j],end=\" \")\n",
    "#     print()\n",
    "df"
   ]
  },
  {
   "cell_type": "code",
   "execution_count": 14,
   "metadata": {},
   "outputs": [],
   "source": [
    "df.to_csv(r'result-2-1_train.csv', header=True)"
   ]
  },
  {
   "cell_type": "code",
   "execution_count": 15,
   "metadata": {},
   "outputs": [
    {
     "data": {
      "image/png": "[encoded data removed]",
      "text/plain": [
       "<Figure size 720x576 with 1 Axes>"
      ]
     },
     "metadata": {
      "needs_background": "light"
     },
     "output_type": "display_data"
    }
   ],
   "source": [
    "fig=plt.figure(figsize=(10,8))\n",
    "x=[1,2,3,4,5,6]\n",
    "plt.plot(x,accuraciest[0],label=\"C=0.01\")\n",
    "plt.plot(x,accuraciest[1],label=\"C=0.1\")\n",
    "plt.plot(x,accuraciest[2],label=\"C=1\")\n",
    "plt.plot(x,accuraciest[3],label=\"C=10\")\n",
    "plt.plot(x,accuraciest[4],label=\"C=100\")\n",
    "plt.xlabel(\"N-grams\")\n",
    "plt.ylabel(\"Accuracies\")\n",
    "plt.legend()\n",
    "plt.title(\"Accuracies on Train Data for different values of C and N-grams\")\n",
    "plt.show()"
   ]
  },
  {
   "cell_type": "code",
   "execution_count": 16,
   "metadata": {
    "colab": {
     "base_uri": "https://localhost:8080/"
    },
    "id": "bJLqMlZDKTs8",
    "outputId": "06419cf1-7030-496f-a48e-b5ec82b41512"
   },
   "outputs": [
    {
     "name": "stdout",
     "output_type": "stream",
     "text": [
      "Accuracies on Dev\n"
     ]
    },
    {
     "data": {
      "text/html": [
       "<div>\n",
       "<style scoped>\n",
       "    .dataframe tbody tr th:only-of-type {\n",
       "        vertical-align: middle;\n",
       "    }\n",
       "\n",
       "    .dataframe tbody tr th {\n",
       "        vertical-align: top;\n",
       "    }\n",
       "\n",
       "    .dataframe thead th {\n",
       "        text-align: right;\n",
       "    }\n",
       "</style>\n",
       "<table border=\"1\" class=\"dataframe\">\n",
       "  <thead>\n",
       "    <tr style=\"text-align: right;\">\n",
       "      <th></th>\n",
       "      <th>1-gram</th>\n",
       "      <th>2-gram</th>\n",
       "      <th>3-gram</th>\n",
       "      <th>4-gram</th>\n",
       "      <th>5-gram</th>\n",
       "      <th>6-gram</th>\n",
       "    </tr>\n",
       "  </thead>\n",
       "  <tbody>\n",
       "    <tr>\n",
       "      <th>C=0.01</th>\n",
       "      <td>0.742358</td>\n",
       "      <td>0.751092</td>\n",
       "      <td>0.751092</td>\n",
       "      <td>0.751092</td>\n",
       "      <td>0.746725</td>\n",
       "      <td>0.742358</td>\n",
       "    </tr>\n",
       "    <tr>\n",
       "      <th>C=0.1</th>\n",
       "      <td>0.748908</td>\n",
       "      <td>0.751092</td>\n",
       "      <td>0.746725</td>\n",
       "      <td>0.744541</td>\n",
       "      <td>0.744541</td>\n",
       "      <td>0.744541</td>\n",
       "    </tr>\n",
       "    <tr>\n",
       "      <th>C=1</th>\n",
       "      <td>0.766376</td>\n",
       "      <td>0.770742</td>\n",
       "      <td>0.770742</td>\n",
       "      <td>0.762009</td>\n",
       "      <td>0.759825</td>\n",
       "      <td>0.759825</td>\n",
       "    </tr>\n",
       "    <tr>\n",
       "      <th>C=10</th>\n",
       "      <td>0.790393</td>\n",
       "      <td>0.788210</td>\n",
       "      <td>0.790393</td>\n",
       "      <td>0.783843</td>\n",
       "      <td>0.779476</td>\n",
       "      <td>0.775109</td>\n",
       "    </tr>\n",
       "    <tr>\n",
       "      <th>C=100</th>\n",
       "      <td>0.781659</td>\n",
       "      <td>0.792576</td>\n",
       "      <td>0.794760</td>\n",
       "      <td>0.777293</td>\n",
       "      <td>0.779476</td>\n",
       "      <td>0.779476</td>\n",
       "    </tr>\n",
       "  </tbody>\n",
       "</table>\n",
       "</div>"
      ],
      "text/plain": [
       "          1-gram    2-gram    3-gram    4-gram    5-gram    6-gram\n",
       "C=0.01  0.742358  0.751092  0.751092  0.751092  0.746725  0.742358\n",
       "C=0.1   0.748908  0.751092  0.746725  0.744541  0.744541  0.744541\n",
       "C=1     0.766376  0.770742  0.770742  0.762009  0.759825  0.759825\n",
       "C=10    0.790393  0.788210  0.790393  0.783843  0.779476  0.775109\n",
       "C=100   0.781659  0.792576  0.794760  0.777293  0.779476  0.779476"
      ]
     },
     "execution_count": 16,
     "metadata": {},
     "output_type": "execute_result"
    }
   ],
   "source": [
    "accuraciesdpd = np.array(accuraciesd)\n",
    "print(\"Accuracies on Dev\")\n",
    "df = pd.DataFrame(accuraciesd,     index=[\"C=0.01\",\"C=0.1\",\"C=1\",\"C=10\",\"C=100\"],\n",
    "                 columns=['1-gram', '2-gram','3-gram','4-gram','5-gram','6-gram'])\n",
    "# for i in range(len(accuraciest)):\n",
    "#     print(\"C=\",regularizer[i],end=\"\\t\\t\")\n",
    "#     for j in range(len(accuraciest[0])):\n",
    "#         print(j,\"-gram\",accuraciest[i][j],end=\" \")\n",
    "#     print()\n",
    "df"
   ]
  },
  {
   "cell_type": "code",
   "execution_count": 17,
   "metadata": {},
   "outputs": [],
   "source": [
    "df.to_csv(r'result-2-1_dev.csv', header=True)"
   ]
  },
  {
   "cell_type": "code",
   "execution_count": 18,
   "metadata": {},
   "outputs": [
    {
     "data": {
      "image/png": "[encoded data removed]",
      "text/plain": [
       "<Figure size 720x576 with 1 Axes>"
      ]
     },
     "metadata": {
      "needs_background": "light"
     },
     "output_type": "display_data"
    }
   ],
   "source": [
    "fig=plt.figure(figsize=(10,8))\n",
    "x=[1,2,3,4,5,6]\n",
    "plt.plot(x,accuraciesd[0],label=\"C=0.01\")\n",
    "plt.plot(x,accuraciesd[1],label=\"C=0.1\")\n",
    "plt.plot(x,accuraciesd[2],label=\"C=1\")\n",
    "plt.plot(x,accuraciesd[3],label=\"C=10\")\n",
    "plt.plot(x,accuraciesd[4],label=\"C=100\")\n",
    "plt.xlabel(\"N-grams\")\n",
    "plt.ylabel(\"Accuracies\")\n",
    "plt.legend()\n",
    "plt.title(\"Accuracies on Dev Data for different values of C and N-grams\")\n",
    "plt.show()"
   ]
  }
 ],
 "metadata": {
  "colab": {
   "name": "Untitled43.ipynb",
   "provenance": []
  },
  "kernelspec": {
   "display_name": "Python 3 (ipykernel)",
   "language": "python",
   "name": "python3"
  },
  "language_info": {
   "codemirror_mode": {
    "name": "ipython",
    "version": 3
   },
   "file_extension": ".py",
   "mimetype": "text/x-python",
   "name": "python",
   "nbconvert_exporter": "python",
   "pygments_lexer": "ipython3",
   "version": "3.7.11"
  }
 },
 "nbformat": 4,
 "nbformat_minor": 1
}
