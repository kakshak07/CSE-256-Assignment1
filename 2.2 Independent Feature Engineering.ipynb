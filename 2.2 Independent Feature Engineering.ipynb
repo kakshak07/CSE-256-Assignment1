{
 "cells": [
  {
   "cell_type": "code",
   "execution_count": 1,
   "id": "30a4bbb4",
   "metadata": {},
   "outputs": [
    {
     "name": "stderr",
     "output_type": "stream",
     "text": [
      "[nltk_data] Downloading package stopwords to\n",
      "[nltk_data]     /Users/kakshak/nltk_data...\n",
      "[nltk_data]   Package stopwords is already up-to-date!\n"
     ]
    }
   ],
   "source": [
    "import nltk\n",
    "from nltk.corpus import stopwords\n",
    "from nltk.tokenize import word_tokenize\n",
    "import numpy as np\n",
    "import pandas as pd\n",
    "import tarfile\n",
    "from sklearn import preprocessing\n",
    "from sklearn.feature_extraction.text import CountVectorizer\n",
    "from sklearn.linear_model import LogisticRegression\n",
    "from sklearn import metrics\n",
    "from nltk.stem import WordNetLemmatizer\n",
    "import numpy as np\n",
    "from sklearn.feature_extraction.text import TfidfVectorizer\n",
    "import nltk\n",
    "from nltk.corpus import stopwords\n",
    "nltk.download('stopwords')\n",
    "import matplotlib.pyplot as plt\n",
    "from nltk.stem import WordNetLemmatizer\n",
    "from nltk.stem.porter import PorterStemmer"
   ]
  },
  {
   "cell_type": "code",
   "execution_count": 2,
   "id": "6e1e79c9",
   "metadata": {},
   "outputs": [],
   "source": [
    "tarfname = \"data/sentiment.tar.gz\""
   ]
  },
  {
   "cell_type": "code",
   "execution_count": 3,
   "id": "e07a63a0",
   "metadata": {},
   "outputs": [],
   "source": [
    "tar = tarfile.open(tarfname, \"r:gz\")\n",
    "trainname = \"train.tsv\"\n",
    "devname = \"dev.tsv\"\n",
    "unlabel=\"unlabeled.tsv\"\n",
    "for member in tar.getmembers():\n",
    "    if 'train.tsv' in member.name:\n",
    "        trainname = member.name\n",
    "    elif 'dev.tsv' in member.name:\n",
    "        devname = member.name\n",
    "    else:\n",
    "        unlabel=member.name\n",
    "        "
   ]
  },
  {
   "cell_type": "code",
   "execution_count": 4,
   "id": "e9522ccb",
   "metadata": {},
   "outputs": [],
   "source": [
    "member = tar.getmember(trainname)\n",
    "tf = tar.extractfile(member)\n",
    "data = []\n",
    "labels = []\n",
    "for line in tf:\n",
    "    line = line.decode(\"utf-8\")\n",
    "    (label,text) = line.strip().split(\"\\t\")\n",
    "    labels.append(label)\n",
    "    data.append(text)\n",
    "train_data,train_labels=data, labels"
   ]
  },
  {
   "cell_type": "code",
   "execution_count": 5,
   "id": "ce57c8f1",
   "metadata": {},
   "outputs": [],
   "source": [
    "member = tar.getmember(devname)\n",
    "tf = tar.extractfile(member)\n",
    "data = []\n",
    "labels = []\n",
    "for line in tf:\n",
    "    line = line.decode(\"utf-8\")\n",
    "    (label,text) = line.strip().split(\"\\t\")\n",
    "    labels.append(label)\n",
    "    data.append(text)\n",
    "dev_data,dev_labels=data, labels"
   ]
  },
  {
   "cell_type": "code",
   "execution_count": 6,
   "id": "2b69d906",
   "metadata": {},
   "outputs": [],
   "source": [
    "member = tar.getmember(unlabel)\n",
    "tf = tar.extractfile(member)\n",
    "data = []\n",
    "for line in tf:\n",
    "    line = line.decode(\"utf-8\")\n",
    "    data.append(line)\n",
    "unlabel_data=data"
   ]
  },
  {
   "cell_type": "code",
   "execution_count": 7,
   "id": "ba67312c",
   "metadata": {},
   "outputs": [],
   "source": [
    "le = preprocessing.LabelEncoder()\n",
    "le.fit(train_labels)\n",
    "target_labels = le.classes_\n",
    "trainy = le.transform(train_labels)\n",
    "devy = le.transform(dev_labels)"
   ]
  },
  {
   "cell_type": "code",
   "execution_count": 8,
   "id": "9e4d6683",
   "metadata": {},
   "outputs": [],
   "source": [
    "tar.close()"
   ]
  },
  {
   "cell_type": "code",
   "execution_count": 9,
   "id": "256bf540",
   "metadata": {},
   "outputs": [],
   "source": [
    "def evaluate(X, yt, cls, name='data'):\n",
    "    \"\"\"Evaluated a classifier on the given labeled data using accuracy.\"\"\"\n",
    "    yp = cls.predict(X)\n",
    "    acc = metrics.accuracy_score(yt, yp)\n",
    "    print(\"  Accuracy on %s  is: %s\" % (name, acc))\n",
    "    return(acc)"
   ]
  },
  {
   "cell_type": "code",
   "execution_count": 10,
   "id": "92a3e4a0",
   "metadata": {},
   "outputs": [],
   "source": [
    "accuracy_train_data=[]\n",
    "accuracy_dev_data=[]"
   ]
  },
  {
   "cell_type": "markdown",
   "id": "ce4ef0d9",
   "metadata": {},
   "source": [
    "# Base: Count Vectorizer with white space tokenizer"
   ]
  },
  {
   "cell_type": "code",
   "execution_count": 11,
   "id": "86657788",
   "metadata": {},
   "outputs": [],
   "source": [
    "count_vect = CountVectorizer()\n",
    "trainX = count_vect.fit_transform(train_data)\n",
    "devX = count_vect.transform(dev_data)"
   ]
  },
  {
   "cell_type": "code",
   "execution_count": 12,
   "id": "d2a1c936",
   "metadata": {},
   "outputs": [
    {
     "name": "stdout",
     "output_type": "stream",
     "text": [
      "  Accuracy on train  is: 0.9821038847664775\n",
      "  Accuracy on dev  is: 0.777292576419214\n"
     ]
    }
   ],
   "source": [
    "cls = LogisticRegression(random_state=0, solver='lbfgs', max_iter=10000)\n",
    "cls.fit(trainX, trainy)\n",
    "accuracy_train_data.append(evaluate(trainX, trainy, cls, 'train'))\n",
    "accuracy_dev_data.append(evaluate(devX, devy, cls, 'dev'))"
   ]
  },
  {
   "cell_type": "markdown",
   "id": "d0a054cc",
   "metadata": {},
   "source": [
    "# Independent Feature Engineering"
   ]
  },
  {
   "cell_type": "markdown",
   "id": "74a3386b",
   "metadata": {},
   "source": [
    "# Method 1: Count Vectorizer with Stop Words Removal tokenizer"
   ]
  },
  {
   "cell_type": "code",
   "execution_count": 13,
   "id": "4d521e66",
   "metadata": {},
   "outputs": [],
   "source": [
    "def remove_stop_words(sentence):\n",
    "    sentence=sentence.lower()\n",
    "    text_tokens = word_tokenize(sentence)\n",
    "    tokens_without_sw = [word for word in text_tokens if not word in set(stopwords.words(\"english\"))]\n",
    "    return(tokens_without_sw)"
   ]
  },
  {
   "cell_type": "code",
   "execution_count": 14,
   "id": "bfb664af",
   "metadata": {},
   "outputs": [],
   "source": [
    "count_vect = CountVectorizer(tokenizer=remove_stop_words)\n",
    "trainX = count_vect.fit_transform(train_data)\n",
    "devX = count_vect.transform(dev_data)"
   ]
  },
  {
   "cell_type": "code",
   "execution_count": 15,
   "id": "c064a47f",
   "metadata": {},
   "outputs": [
    {
     "name": "stdout",
     "output_type": "stream",
     "text": [
      "  Accuracy on train  is: 0.9827586206896551\n",
      "  Accuracy on dev  is: 0.7663755458515283\n"
     ]
    }
   ],
   "source": [
    "cls = LogisticRegression(random_state=0, solver='lbfgs', max_iter=10000)\n",
    "cls.fit(trainX, trainy)\n",
    "accuracy_train_data.append(evaluate(trainX, trainy, cls, 'train'))\n",
    "accuracy_dev_data.append(evaluate(devX, devy, cls, 'dev'))"
   ]
  },
  {
   "cell_type": "markdown",
   "id": "19b6184c",
   "metadata": {},
   "source": [
    "#  Method 2: Count Vectorizer with Stemming tokenizer"
   ]
  },
  {
   "cell_type": "code",
   "execution_count": 16,
   "id": "92b82027",
   "metadata": {},
   "outputs": [],
   "source": [
    "porter_stemmer = PorterStemmer()"
   ]
  },
  {
   "cell_type": "code",
   "execution_count": 17,
   "id": "070fc5d8",
   "metadata": {},
   "outputs": [],
   "source": [
    "def stemming(sentence):\n",
    "    sentence=sentence.lower()\n",
    "    tokens = nltk.word_tokenize(sentence)\n",
    "    t=[]\n",
    "    for w in tokens:\n",
    "        t.append(porter_stemmer.stem(w))\n",
    "    return(t)"
   ]
  },
  {
   "cell_type": "code",
   "execution_count": 18,
   "id": "da51922d",
   "metadata": {},
   "outputs": [],
   "source": [
    "count_vect = CountVectorizer(tokenizer=stemming)\n",
    "trainX = count_vect.fit_transform(train_data)\n",
    "devX = count_vect.transform(dev_data)"
   ]
  },
  {
   "cell_type": "code",
   "execution_count": 19,
   "id": "764543cf",
   "metadata": {},
   "outputs": [
    {
     "name": "stdout",
     "output_type": "stream",
     "text": [
      "  Accuracy on train  is: 0.9751200349192493\n",
      "  Accuracy on dev  is: 0.7707423580786026\n"
     ]
    }
   ],
   "source": [
    "cls = LogisticRegression(random_state=0, solver='lbfgs', max_iter=10000)\n",
    "cls.fit(trainX, trainy)\n",
    "accuracy_train_data.append(evaluate(trainX, trainy, cls, 'train'))\n",
    "accuracy_dev_data.append(evaluate(devX, devy, cls, 'dev'))"
   ]
  },
  {
   "cell_type": "markdown",
   "id": "e2276cd1",
   "metadata": {},
   "source": [
    "#  Method 3: Count Vectorizer with Lammentization tokenizer\n"
   ]
  },
  {
   "cell_type": "code",
   "execution_count": 20,
   "id": "2ea143a4",
   "metadata": {},
   "outputs": [],
   "source": [
    "lemmatizer = WordNetLemmatizer()"
   ]
  },
  {
   "cell_type": "code",
   "execution_count": 21,
   "id": "c071f394",
   "metadata": {},
   "outputs": [],
   "source": [
    "def lammentization(sentence):\n",
    "    sentence=sentence.lower()\n",
    "    arli=[]\n",
    "    for i in sentence.split(\" \"):\n",
    "        arli.append(lemmatizer.lemmatize(i))\n",
    "    return(arli)"
   ]
  },
  {
   "cell_type": "code",
   "execution_count": 22,
   "id": "4aa9ab87",
   "metadata": {},
   "outputs": [],
   "source": [
    "count_vect = CountVectorizer(tokenizer=lammentization)\n",
    "trainX = count_vect.fit_transform(train_data)\n",
    "devX = count_vect.transform(dev_data)"
   ]
  },
  {
   "cell_type": "code",
   "execution_count": 23,
   "id": "04ed91a8",
   "metadata": {},
   "outputs": [
    {
     "name": "stdout",
     "output_type": "stream",
     "text": [
      "  Accuracy on train  is: 0.9934526407682235\n",
      "  Accuracy on dev  is: 0.7707423580786026\n"
     ]
    }
   ],
   "source": [
    "cls = LogisticRegression(random_state=0, solver='lbfgs', max_iter=10000)\n",
    "cls.fit(trainX, trainy)\n",
    "accuracy_train_data.append(evaluate(trainX, trainy, cls, 'train'))\n",
    "accuracy_dev_data.append(evaluate(devX, devy, cls, 'dev'))"
   ]
  },
  {
   "cell_type": "markdown",
   "id": "20ba8fd7",
   "metadata": {},
   "source": [
    "## Tables for Accuracies of Different Feature Engineering Techniques"
   ]
  },
  {
   "cell_type": "code",
   "execution_count": 24,
   "id": "1d121248",
   "metadata": {},
   "outputs": [
    {
     "data": {
      "text/html": [
       "<div>\n",
       "<style scoped>\n",
       "    .dataframe tbody tr th:only-of-type {\n",
       "        vertical-align: middle;\n",
       "    }\n",
       "\n",
       "    .dataframe tbody tr th {\n",
       "        vertical-align: top;\n",
       "    }\n",
       "\n",
       "    .dataframe thead th {\n",
       "        text-align: right;\n",
       "    }\n",
       "</style>\n",
       "<table border=\"1\" class=\"dataframe\">\n",
       "  <thead>\n",
       "    <tr style=\"text-align: right;\">\n",
       "      <th></th>\n",
       "      <th>Accuracies on Train Data</th>\n",
       "    </tr>\n",
       "  </thead>\n",
       "  <tbody>\n",
       "    <tr>\n",
       "      <th>Base Model</th>\n",
       "      <td>0.982104</td>\n",
       "    </tr>\n",
       "    <tr>\n",
       "      <th>Stop Words Remmoval</th>\n",
       "      <td>0.982759</td>\n",
       "    </tr>\n",
       "    <tr>\n",
       "      <th>Stemming</th>\n",
       "      <td>0.975120</td>\n",
       "    </tr>\n",
       "    <tr>\n",
       "      <th>Lammentization</th>\n",
       "      <td>0.993453</td>\n",
       "    </tr>\n",
       "  </tbody>\n",
       "</table>\n",
       "</div>"
      ],
      "text/plain": [
       "                     Accuracies on Train Data\n",
       "Base Model                           0.982104\n",
       "Stop Words Remmoval                  0.982759\n",
       "Stemming                             0.975120\n",
       "Lammentization                       0.993453"
      ]
     },
     "execution_count": 24,
     "metadata": {},
     "output_type": "execute_result"
    }
   ],
   "source": [
    "df = pd.DataFrame(accuracy_train_data,     index=[\"Base Model\",\"Stop Words Remmoval\",\"Stemming\",\"Lammentization\"],\n",
    "                 columns=[\"Accuracies on Train Data\"])\n",
    "df"
   ]
  },
  {
   "cell_type": "code",
   "execution_count": 25,
   "id": "fc4a275f",
   "metadata": {},
   "outputs": [],
   "source": [
    "df.to_csv(r'result-2-2_method_comparision_train.csv', header=True)"
   ]
  },
  {
   "cell_type": "code",
   "execution_count": 26,
   "id": "171a436f",
   "metadata": {},
   "outputs": [
    {
     "data": {
      "text/html": [
       "<div>\n",
       "<style scoped>\n",
       "    .dataframe tbody tr th:only-of-type {\n",
       "        vertical-align: middle;\n",
       "    }\n",
       "\n",
       "    .dataframe tbody tr th {\n",
       "        vertical-align: top;\n",
       "    }\n",
       "\n",
       "    .dataframe thead th {\n",
       "        text-align: right;\n",
       "    }\n",
       "</style>\n",
       "<table border=\"1\" class=\"dataframe\">\n",
       "  <thead>\n",
       "    <tr style=\"text-align: right;\">\n",
       "      <th></th>\n",
       "      <th>Accuracies on Dev Data</th>\n",
       "    </tr>\n",
       "  </thead>\n",
       "  <tbody>\n",
       "    <tr>\n",
       "      <th>Base Model</th>\n",
       "      <td>0.777293</td>\n",
       "    </tr>\n",
       "    <tr>\n",
       "      <th>Stop Words Remmoval</th>\n",
       "      <td>0.766376</td>\n",
       "    </tr>\n",
       "    <tr>\n",
       "      <th>Stemming</th>\n",
       "      <td>0.770742</td>\n",
       "    </tr>\n",
       "    <tr>\n",
       "      <th>Lammentization</th>\n",
       "      <td>0.770742</td>\n",
       "    </tr>\n",
       "  </tbody>\n",
       "</table>\n",
       "</div>"
      ],
      "text/plain": [
       "                     Accuracies on Dev Data\n",
       "Base Model                         0.777293\n",
       "Stop Words Remmoval                0.766376\n",
       "Stemming                           0.770742\n",
       "Lammentization                     0.770742"
      ]
     },
     "execution_count": 26,
     "metadata": {},
     "output_type": "execute_result"
    }
   ],
   "source": [
    "df = pd.DataFrame(accuracy_dev_data,     index=[\"Base Model\",\"Stop Words Remmoval\",\"Stemming\",\"Lammentization\"],\n",
    "                 columns=[\"Accuracies on Dev Data\"])\n",
    "df"
   ]
  },
  {
   "cell_type": "code",
   "execution_count": 27,
   "id": "606ee65e",
   "metadata": {},
   "outputs": [],
   "source": [
    "df.to_csv(r'result-2-2_method_comparision_dev.csv', header=True)"
   ]
  },
  {
   "cell_type": "markdown",
   "id": "fb8a4748",
   "metadata": {},
   "source": [
    "## Graph Analysis"
   ]
  },
  {
   "cell_type": "code",
   "execution_count": 28,
   "id": "00deeeb9",
   "metadata": {},
   "outputs": [
    {
     "data": {
      "image/png": "[encoded data removed]",
      "text/plain": [
       "<Figure size 720x576 with 1 Axes>"
      ]
     },
     "metadata": {
      "needs_background": "light"
     },
     "output_type": "display_data"
    }
   ],
   "source": [
    "fig=plt.figure(figsize=(10,8))\n",
    "x=[\"Base Model\",\"Stop Words Remmoval\",\"Stemming\",\"Lammentization\"]\n",
    "plt.scatter(x,accuracy_train_data,s=100)\n",
    "plt.xlabel(\"Feature Engineering Techniques\")\n",
    "plt.ylabel(\"Accuracies\")\n",
    "plt.title(\"Comparision of models for different Independent Feature Engineering on Train Data\")\n",
    "plt.grid()\n",
    "plt.show()"
   ]
  },
  {
   "cell_type": "code",
   "execution_count": 29,
   "id": "eb7eb84b",
   "metadata": {},
   "outputs": [
    {
     "data": {
      "image/png": "[encoded data removed]",
      "text/plain": [
       "<Figure size 720x576 with 1 Axes>"
      ]
     },
     "metadata": {
      "needs_background": "light"
     },
     "output_type": "display_data"
    }
   ],
   "source": [
    "fig=plt.figure(figsize=(10,8))\n",
    "x=[\"Base Model\",\"Stop Words Remmoval\",\"Stemming\",\"Lammentization\"]\n",
    "plt.scatter(x,accuracy_dev_data,s=100)\n",
    "plt.xlabel(\"Feature Engineering Techniques\")\n",
    "plt.ylabel(\"Accuracies\")\n",
    "plt.title(\"Comparision of models for different Independent Feature Engineering on Dev Data\")\n",
    "plt.grid()\n",
    "plt.show()"
   ]
  },
  {
   "cell_type": "markdown",
   "id": "17569025",
   "metadata": {},
   "source": [
    "# Method 4: TF-IDF on Independent Feature Engineering Method 1 Stop Word Removal"
   ]
  },
  {
   "cell_type": "code",
   "execution_count": 30,
   "id": "9f4accd0",
   "metadata": {},
   "outputs": [],
   "source": [
    "# Remove Stop Words\n",
    "\n",
    "def remove_stop_words(sentence):\n",
    "    sentence=sentence.lower()\n",
    "    text_tokens = word_tokenize(sentence)\n",
    "    tokens_without_sw = [word for word in text_tokens if not word in set(stopwords.words(\"english\"))]\n",
    "    return(tokens_without_sw)"
   ]
  },
  {
   "cell_type": "code",
   "execution_count": 31,
   "id": "45744b29",
   "metadata": {},
   "outputs": [],
   "source": [
    "def evaluate1(X, yt, cls, name='data'):\n",
    "    \"\"\"Evaluated a classifier on the given labeled data using accuracy.\"\"\"\n",
    "    yp = cls.predict(X)\n",
    "    acc = metrics.accuracy_score(yt, yp)\n",
    "    #print(\"  Accuracy on %s  is: %s\" % (name, acc))\n",
    "    return(acc)"
   ]
  },
  {
   "cell_type": "code",
   "execution_count": 32,
   "id": "4890ef20",
   "metadata": {},
   "outputs": [],
   "source": [
    "regularizer=[0.01,0.1,1,10,100]\n",
    "ngram=7\n",
    "accuraciest1=[]\n",
    "accuraciesd1=[]\n",
    "for j in regularizer:\n",
    "    valuest=[]\n",
    "    valuesd=[]\n",
    "    for i in range(1,ngram):\n",
    "        vectorizer = TfidfVectorizer(tokenizer=remove_stop_words, ngram_range=(1, i))\n",
    "#         print(f\"The value of ngram={i},value of regularizer={j}\")\n",
    "        XTrain = vectorizer.fit_transform(train_data)\n",
    "        devTrain=vectorizer.transform(dev_data)\n",
    "        tfidf = LogisticRegression(random_state=0, solver='lbfgs', max_iter=10000,C=j)\n",
    "        tfidf.fit(XTrain, trainy)\n",
    "        valuest.append(round(evaluate1(XTrain, trainy, tfidf, 'train'),8))\n",
    "        valuesd.append(round(evaluate1(devTrain, devy, tfidf, 'dev'),8))\n",
    "    accuraciest1.append(valuest)\n",
    "    accuraciesd1.append(valuesd)"
   ]
  },
  {
   "cell_type": "code",
   "execution_count": 33,
   "id": "5a594edc",
   "metadata": {},
   "outputs": [
    {
     "name": "stdout",
     "output_type": "stream",
     "text": [
      "Accuracies on Train\n"
     ]
    },
    {
     "data": {
      "text/html": [
       "<div>\n",
       "<style scoped>\n",
       "    .dataframe tbody tr th:only-of-type {\n",
       "        vertical-align: middle;\n",
       "    }\n",
       "\n",
       "    .dataframe tbody tr th {\n",
       "        vertical-align: top;\n",
       "    }\n",
       "\n",
       "    .dataframe thead th {\n",
       "        text-align: right;\n",
       "    }\n",
       "</style>\n",
       "<table border=\"1\" class=\"dataframe\">\n",
       "  <thead>\n",
       "    <tr style=\"text-align: right;\">\n",
       "      <th></th>\n",
       "      <th>1-gram</th>\n",
       "      <th>2-gram</th>\n",
       "      <th>3-gram</th>\n",
       "      <th>4-gram</th>\n",
       "      <th>5-gram</th>\n",
       "      <th>6-gram</th>\n",
       "    </tr>\n",
       "  </thead>\n",
       "  <tbody>\n",
       "    <tr>\n",
       "      <th>C=0.01</th>\n",
       "      <td>0.764732</td>\n",
       "      <td>0.828896</td>\n",
       "      <td>0.882802</td>\n",
       "      <td>0.924924</td>\n",
       "      <td>0.948931</td>\n",
       "      <td>0.963335</td>\n",
       "    </tr>\n",
       "    <tr>\n",
       "      <th>C=0.1</th>\n",
       "      <td>0.808599</td>\n",
       "      <td>0.865343</td>\n",
       "      <td>0.907900</td>\n",
       "      <td>0.939110</td>\n",
       "      <td>0.961371</td>\n",
       "      <td>0.973592</td>\n",
       "    </tr>\n",
       "    <tr>\n",
       "      <th>C=1</th>\n",
       "      <td>0.903754</td>\n",
       "      <td>0.961152</td>\n",
       "      <td>0.983632</td>\n",
       "      <td>0.992143</td>\n",
       "      <td>0.996508</td>\n",
       "      <td>0.998472</td>\n",
       "    </tr>\n",
       "    <tr>\n",
       "      <th>C=10</th>\n",
       "      <td>0.988651</td>\n",
       "      <td>1.000000</td>\n",
       "      <td>1.000000</td>\n",
       "      <td>1.000000</td>\n",
       "      <td>1.000000</td>\n",
       "      <td>1.000000</td>\n",
       "    </tr>\n",
       "    <tr>\n",
       "      <th>C=100</th>\n",
       "      <td>1.000000</td>\n",
       "      <td>1.000000</td>\n",
       "      <td>1.000000</td>\n",
       "      <td>1.000000</td>\n",
       "      <td>1.000000</td>\n",
       "      <td>1.000000</td>\n",
       "    </tr>\n",
       "  </tbody>\n",
       "</table>\n",
       "</div>"
      ],
      "text/plain": [
       "          1-gram    2-gram    3-gram    4-gram    5-gram    6-gram\n",
       "C=0.01  0.764732  0.828896  0.882802  0.924924  0.948931  0.963335\n",
       "C=0.1   0.808599  0.865343  0.907900  0.939110  0.961371  0.973592\n",
       "C=1     0.903754  0.961152  0.983632  0.992143  0.996508  0.998472\n",
       "C=10    0.988651  1.000000  1.000000  1.000000  1.000000  1.000000\n",
       "C=100   1.000000  1.000000  1.000000  1.000000  1.000000  1.000000"
      ]
     },
     "execution_count": 33,
     "metadata": {},
     "output_type": "execute_result"
    }
   ],
   "source": [
    "accuraciestpd = np.array(accuraciest1)\n",
    "print(\"Accuracies on Train\")\n",
    "df = pd.DataFrame(accuraciest1,     index=[\"C=0.01\",\"C=0.1\",\"C=1\",\"C=10\",\"C=100\"],\n",
    "                 columns=['1-gram', '2-gram','3-gram','4-gram','5-gram','6-gram'])\n",
    "# for i in range(len(accuraciest)):\n",
    "#     print(\"C=\",regularizer[i],end=\"\\t\\t\")\n",
    "#     for j in range(len(accuraciest[0])):\n",
    "#         print(j,\"-gram\",accuraciest[i][j],end=\" \")\n",
    "#     print()\n",
    "df"
   ]
  },
  {
   "cell_type": "code",
   "execution_count": 34,
   "id": "c26b1c49",
   "metadata": {},
   "outputs": [],
   "source": [
    "accuracy_train_data.append(max(df.max()))\n",
    "df.to_csv(r'result-2-2_TF-IDF+stop_train.csv',header=True)"
   ]
  },
  {
   "cell_type": "code",
   "execution_count": 35,
   "id": "80c708e3",
   "metadata": {},
   "outputs": [
    {
     "name": "stdout",
     "output_type": "stream",
     "text": [
      "Accuracies on Dev\n"
     ]
    },
    {
     "data": {
      "text/html": [
       "<div>\n",
       "<style scoped>\n",
       "    .dataframe tbody tr th:only-of-type {\n",
       "        vertical-align: middle;\n",
       "    }\n",
       "\n",
       "    .dataframe tbody tr th {\n",
       "        vertical-align: top;\n",
       "    }\n",
       "\n",
       "    .dataframe thead th {\n",
       "        text-align: right;\n",
       "    }\n",
       "</style>\n",
       "<table border=\"1\" class=\"dataframe\">\n",
       "  <thead>\n",
       "    <tr style=\"text-align: right;\">\n",
       "      <th></th>\n",
       "      <th>1-gram</th>\n",
       "      <th>2-gram</th>\n",
       "      <th>3-gram</th>\n",
       "      <th>4-gram</th>\n",
       "      <th>5-gram</th>\n",
       "      <th>6-gram</th>\n",
       "    </tr>\n",
       "  </thead>\n",
       "  <tbody>\n",
       "    <tr>\n",
       "      <th>C=0.01</th>\n",
       "      <td>0.709607</td>\n",
       "      <td>0.720524</td>\n",
       "      <td>0.729258</td>\n",
       "      <td>0.729258</td>\n",
       "      <td>0.731441</td>\n",
       "      <td>0.729258</td>\n",
       "    </tr>\n",
       "    <tr>\n",
       "      <th>C=0.1</th>\n",
       "      <td>0.727074</td>\n",
       "      <td>0.735808</td>\n",
       "      <td>0.735808</td>\n",
       "      <td>0.740175</td>\n",
       "      <td>0.737991</td>\n",
       "      <td>0.737991</td>\n",
       "    </tr>\n",
       "    <tr>\n",
       "      <th>C=1</th>\n",
       "      <td>0.772926</td>\n",
       "      <td>0.764192</td>\n",
       "      <td>0.759825</td>\n",
       "      <td>0.753275</td>\n",
       "      <td>0.753275</td>\n",
       "      <td>0.751092</td>\n",
       "    </tr>\n",
       "    <tr>\n",
       "      <th>C=10</th>\n",
       "      <td>0.783843</td>\n",
       "      <td>0.779476</td>\n",
       "      <td>0.783843</td>\n",
       "      <td>0.777293</td>\n",
       "      <td>0.775109</td>\n",
       "      <td>0.777293</td>\n",
       "    </tr>\n",
       "    <tr>\n",
       "      <th>C=100</th>\n",
       "      <td>0.781659</td>\n",
       "      <td>0.766376</td>\n",
       "      <td>0.781659</td>\n",
       "      <td>0.779476</td>\n",
       "      <td>0.775109</td>\n",
       "      <td>0.777293</td>\n",
       "    </tr>\n",
       "  </tbody>\n",
       "</table>\n",
       "</div>"
      ],
      "text/plain": [
       "          1-gram    2-gram    3-gram    4-gram    5-gram    6-gram\n",
       "C=0.01  0.709607  0.720524  0.729258  0.729258  0.731441  0.729258\n",
       "C=0.1   0.727074  0.735808  0.735808  0.740175  0.737991  0.737991\n",
       "C=1     0.772926  0.764192  0.759825  0.753275  0.753275  0.751092\n",
       "C=10    0.783843  0.779476  0.783843  0.777293  0.775109  0.777293\n",
       "C=100   0.781659  0.766376  0.781659  0.779476  0.775109  0.777293"
      ]
     },
     "execution_count": 35,
     "metadata": {},
     "output_type": "execute_result"
    }
   ],
   "source": [
    "accuraciesdpd = np.array(accuraciesd1)\n",
    "print(\"Accuracies on Dev\")\n",
    "df = pd.DataFrame(accuraciesd1,     index=[\"C=0.01\",\"C=0.1\",\"C=1\",\"C=10\",\"C=100\"],\n",
    "                 columns=['1-gram', '2-gram','3-gram','4-gram','5-gram','6-gram'])\n",
    "# for i in range(len(accuraciest)):\n",
    "#     print(\"C=\",regularizer[i],end=\"\\t\\t\")\n",
    "#     for j in range(len(accuraciest[0])):\n",
    "#         print(j,\"-gram\",accuraciest[i][j],end=\" \")\n",
    "#     print()\n",
    "df"
   ]
  },
  {
   "cell_type": "code",
   "execution_count": 36,
   "id": "ad815cb6",
   "metadata": {},
   "outputs": [],
   "source": [
    "accuracy_dev_data.append(max(df.max()))\n",
    "df.to_csv(r'result-2-2_TF-IDF+stop_dev.csv', header=True)"
   ]
  },
  {
   "cell_type": "code",
   "execution_count": 37,
   "id": "9ca34734",
   "metadata": {},
   "outputs": [
    {
     "data": {
      "image/png": "[encoded data removed]",
      "text/plain": [
       "<Figure size 720x576 with 1 Axes>"
      ]
     },
     "metadata": {
      "needs_background": "light"
     },
     "output_type": "display_data"
    }
   ],
   "source": [
    "fig=plt.figure(figsize=(10,8))\n",
    "x=[1,2,3,4,5,6]\n",
    "plt.plot(x,accuraciest1[0],label=\"C=0.01\")\n",
    "plt.plot(x,accuraciest1[1],label=\"C=0.1\")\n",
    "plt.plot(x,accuraciest1[2],label=\"C=1\")\n",
    "plt.plot(x,accuraciest1[3],label=\"C=10\")\n",
    "plt.plot(x,accuraciest1[4],label=\"C=100\")\n",
    "plt.xlabel(\"N-grams\")\n",
    "plt.ylabel(\"Accuracies\")\n",
    "plt.title(\"Stop Word Removal + TF-IDF Accuracies on Train Data\")\n",
    "plt.legend()\n",
    "plt.show()"
   ]
  },
  {
   "cell_type": "code",
   "execution_count": 38,
   "id": "8345bd31",
   "metadata": {},
   "outputs": [
    {
     "data": {
      "image/png": "[encoded data removed]",
      "text/plain": [
       "<Figure size 720x576 with 1 Axes>"
      ]
     },
     "metadata": {
      "needs_background": "light"
     },
     "output_type": "display_data"
    }
   ],
   "source": [
    "fig=plt.figure(figsize=(10,8))\n",
    "x=[1,2,3,4,5,6]\n",
    "plt.plot(x,accuraciesd1[0],label=\"C=0.01\")\n",
    "plt.plot(x,accuraciesd1[1],label=\"C=0.1\")\n",
    "plt.plot(x,accuraciesd1[2],label=\"C=1\")\n",
    "plt.plot(x,accuraciesd1[3],label=\"C=10\")\n",
    "plt.plot(x,accuraciesd1[4],label=\"C=100\")\n",
    "plt.xlabel(\"N-grams\")\n",
    "plt.ylabel(\"Accuracies\")\n",
    "plt.title(\"Stop Word Removal + TF-IDF Accuracies on Dev Data\")\n",
    "plt.legend()\n",
    "plt.show()"
   ]
  },
  {
   "cell_type": "markdown",
   "id": "b47dab7a",
   "metadata": {},
   "source": [
    "# Method 5: TF-IDF on Independent Feature Engineering Method 2 Stemming"
   ]
  },
  {
   "cell_type": "code",
   "execution_count": 39,
   "id": "06a68614",
   "metadata": {},
   "outputs": [],
   "source": [
    "porter_stemmer = PorterStemmer()"
   ]
  },
  {
   "cell_type": "code",
   "execution_count": 40,
   "id": "cf3e4765",
   "metadata": {},
   "outputs": [],
   "source": [
    "def stemming(sentence):\n",
    "    sentence=sentence.lower()\n",
    "    tokens = nltk.word_tokenize(sentence)\n",
    "    t=[]\n",
    "    for w in tokens:\n",
    "        t.append(porter_stemmer.stem(w))\n",
    "    return(t)"
   ]
  },
  {
   "cell_type": "code",
   "execution_count": 41,
   "id": "fe3ea9a9",
   "metadata": {},
   "outputs": [],
   "source": [
    "regularizer=[0.01,0.1,1,10,100]\n",
    "ngram=7\n",
    "accuraciest1=[]\n",
    "accuraciesd1=[]\n",
    "for j in regularizer:\n",
    "    valuest=[]\n",
    "    valuesd=[]\n",
    "    for i in range(1,ngram):\n",
    "        vectorizer = TfidfVectorizer(tokenizer=stemming, ngram_range=(1, i))\n",
    "#         print(f\"The value of ngram={i},value of regularizer={j}\")\n",
    "        XTrain = vectorizer.fit_transform(train_data)\n",
    "        devTrain=vectorizer.transform(dev_data)\n",
    "        tfidf = LogisticRegression(random_state=0, solver='lbfgs', max_iter=10000,C=j)\n",
    "        tfidf.fit(XTrain, trainy)\n",
    "        valuest.append(round(evaluate1(XTrain, trainy, tfidf, 'train'),8))\n",
    "        valuesd.append(round(evaluate1(devTrain, devy, tfidf, 'dev'),8))\n",
    "    accuraciest1.append(valuest)\n",
    "    accuraciesd1.append(valuesd)"
   ]
  },
  {
   "cell_type": "code",
   "execution_count": 42,
   "id": "5c2b332c",
   "metadata": {},
   "outputs": [
    {
     "name": "stdout",
     "output_type": "stream",
     "text": [
      "Accuracies on Train\n"
     ]
    },
    {
     "data": {
      "text/html": [
       "<div>\n",
       "<style scoped>\n",
       "    .dataframe tbody tr th:only-of-type {\n",
       "        vertical-align: middle;\n",
       "    }\n",
       "\n",
       "    .dataframe tbody tr th {\n",
       "        vertical-align: top;\n",
       "    }\n",
       "\n",
       "    .dataframe thead th {\n",
       "        text-align: right;\n",
       "    }\n",
       "</style>\n",
       "<table border=\"1\" class=\"dataframe\">\n",
       "  <thead>\n",
       "    <tr style=\"text-align: right;\">\n",
       "      <th></th>\n",
       "      <th>1-gram</th>\n",
       "      <th>2-gram</th>\n",
       "      <th>3-gram</th>\n",
       "      <th>4-gram</th>\n",
       "      <th>5-gram</th>\n",
       "      <th>6-gram</th>\n",
       "    </tr>\n",
       "  </thead>\n",
       "  <tbody>\n",
       "    <tr>\n",
       "      <th>C=0.01</th>\n",
       "      <td>0.774771</td>\n",
       "      <td>0.828023</td>\n",
       "      <td>0.877564</td>\n",
       "      <td>0.918376</td>\n",
       "      <td>0.944347</td>\n",
       "      <td>0.963335</td>\n",
       "    </tr>\n",
       "    <tr>\n",
       "      <th>C=0.1</th>\n",
       "      <td>0.804670</td>\n",
       "      <td>0.854212</td>\n",
       "      <td>0.897425</td>\n",
       "      <td>0.934090</td>\n",
       "      <td>0.956351</td>\n",
       "      <td>0.972719</td>\n",
       "    </tr>\n",
       "    <tr>\n",
       "      <th>C=1</th>\n",
       "      <td>0.888258</td>\n",
       "      <td>0.950240</td>\n",
       "      <td>0.974684</td>\n",
       "      <td>0.987560</td>\n",
       "      <td>0.994544</td>\n",
       "      <td>0.997599</td>\n",
       "    </tr>\n",
       "    <tr>\n",
       "      <th>C=10</th>\n",
       "      <td>0.976866</td>\n",
       "      <td>1.000000</td>\n",
       "      <td>1.000000</td>\n",
       "      <td>1.000000</td>\n",
       "      <td>1.000000</td>\n",
       "      <td>1.000000</td>\n",
       "    </tr>\n",
       "    <tr>\n",
       "      <th>C=100</th>\n",
       "      <td>0.999782</td>\n",
       "      <td>1.000000</td>\n",
       "      <td>1.000000</td>\n",
       "      <td>1.000000</td>\n",
       "      <td>1.000000</td>\n",
       "      <td>1.000000</td>\n",
       "    </tr>\n",
       "  </tbody>\n",
       "</table>\n",
       "</div>"
      ],
      "text/plain": [
       "          1-gram    2-gram    3-gram    4-gram    5-gram    6-gram\n",
       "C=0.01  0.774771  0.828023  0.877564  0.918376  0.944347  0.963335\n",
       "C=0.1   0.804670  0.854212  0.897425  0.934090  0.956351  0.972719\n",
       "C=1     0.888258  0.950240  0.974684  0.987560  0.994544  0.997599\n",
       "C=10    0.976866  1.000000  1.000000  1.000000  1.000000  1.000000\n",
       "C=100   0.999782  1.000000  1.000000  1.000000  1.000000  1.000000"
      ]
     },
     "execution_count": 42,
     "metadata": {},
     "output_type": "execute_result"
    }
   ],
   "source": [
    "accuraciestpd = np.array(accuraciest1)\n",
    "print(\"Accuracies on Train\")\n",
    "df = pd.DataFrame(accuraciest1,     index=[\"C=0.01\",\"C=0.1\",\"C=1\",\"C=10\",\"C=100\"],\n",
    "                 columns=['1-gram', '2-gram','3-gram','4-gram','5-gram','6-gram'])\n",
    "# for i in range(len(accuraciest)):\n",
    "#     print(\"C=\",regularizer[i],end=\"\\t\\t\")\n",
    "#     for j in range(len(accuraciest[0])):\n",
    "#         print(j,\"-gram\",accuraciest[i][j],end=\" \")\n",
    "#     print()\n",
    "df"
   ]
  },
  {
   "cell_type": "code",
   "execution_count": 43,
   "id": "3198555d",
   "metadata": {},
   "outputs": [],
   "source": [
    "accuracy_train_data.append(max(df.max()))\n",
    "df.to_csv(r'result-2-2_TF-IDF+stem_train.csv', header=True)"
   ]
  },
  {
   "cell_type": "code",
   "execution_count": 44,
   "id": "edbb77ae",
   "metadata": {},
   "outputs": [
    {
     "name": "stdout",
     "output_type": "stream",
     "text": [
      "Accuracies on Dev\n"
     ]
    },
    {
     "data": {
      "text/html": [
       "<div>\n",
       "<style scoped>\n",
       "    .dataframe tbody tr th:only-of-type {\n",
       "        vertical-align: middle;\n",
       "    }\n",
       "\n",
       "    .dataframe tbody tr th {\n",
       "        vertical-align: top;\n",
       "    }\n",
       "\n",
       "    .dataframe thead th {\n",
       "        text-align: right;\n",
       "    }\n",
       "</style>\n",
       "<table border=\"1\" class=\"dataframe\">\n",
       "  <thead>\n",
       "    <tr style=\"text-align: right;\">\n",
       "      <th></th>\n",
       "      <th>1-gram</th>\n",
       "      <th>2-gram</th>\n",
       "      <th>3-gram</th>\n",
       "      <th>4-gram</th>\n",
       "      <th>5-gram</th>\n",
       "      <th>6-gram</th>\n",
       "    </tr>\n",
       "  </thead>\n",
       "  <tbody>\n",
       "    <tr>\n",
       "      <th>C=0.01</th>\n",
       "      <td>0.716157</td>\n",
       "      <td>0.731441</td>\n",
       "      <td>0.737991</td>\n",
       "      <td>0.746725</td>\n",
       "      <td>0.744541</td>\n",
       "      <td>0.744541</td>\n",
       "    </tr>\n",
       "    <tr>\n",
       "      <th>C=0.1</th>\n",
       "      <td>0.735808</td>\n",
       "      <td>0.740175</td>\n",
       "      <td>0.748908</td>\n",
       "      <td>0.748908</td>\n",
       "      <td>0.748908</td>\n",
       "      <td>0.744541</td>\n",
       "    </tr>\n",
       "    <tr>\n",
       "      <th>C=1</th>\n",
       "      <td>0.766376</td>\n",
       "      <td>0.775109</td>\n",
       "      <td>0.777293</td>\n",
       "      <td>0.775109</td>\n",
       "      <td>0.770742</td>\n",
       "      <td>0.766376</td>\n",
       "    </tr>\n",
       "    <tr>\n",
       "      <th>C=10</th>\n",
       "      <td>0.779476</td>\n",
       "      <td>0.794760</td>\n",
       "      <td>0.803493</td>\n",
       "      <td>0.799127</td>\n",
       "      <td>0.796943</td>\n",
       "      <td>0.790393</td>\n",
       "    </tr>\n",
       "    <tr>\n",
       "      <th>C=100</th>\n",
       "      <td>0.766376</td>\n",
       "      <td>0.796943</td>\n",
       "      <td>0.796943</td>\n",
       "      <td>0.801310</td>\n",
       "      <td>0.801310</td>\n",
       "      <td>0.796943</td>\n",
       "    </tr>\n",
       "  </tbody>\n",
       "</table>\n",
       "</div>"
      ],
      "text/plain": [
       "          1-gram    2-gram    3-gram    4-gram    5-gram    6-gram\n",
       "C=0.01  0.716157  0.731441  0.737991  0.746725  0.744541  0.744541\n",
       "C=0.1   0.735808  0.740175  0.748908  0.748908  0.748908  0.744541\n",
       "C=1     0.766376  0.775109  0.777293  0.775109  0.770742  0.766376\n",
       "C=10    0.779476  0.794760  0.803493  0.799127  0.796943  0.790393\n",
       "C=100   0.766376  0.796943  0.796943  0.801310  0.801310  0.796943"
      ]
     },
     "execution_count": 44,
     "metadata": {},
     "output_type": "execute_result"
    }
   ],
   "source": [
    "accuraciesdpd = np.array(accuraciesd1)\n",
    "print(\"Accuracies on Dev\")\n",
    "df = pd.DataFrame(accuraciesd1,     index=[\"C=0.01\",\"C=0.1\",\"C=1\",\"C=10\",\"C=100\"],\n",
    "                 columns=['1-gram', '2-gram','3-gram','4-gram','5-gram','6-gram'])\n",
    "# for i in range(len(accuraciest)):\n",
    "#     print(\"C=\",regularizer[i],end=\"\\t\\t\")\n",
    "#     for j in range(len(accuraciest[0])):\n",
    "#         print(j,\"-gram\",accuraciest[i][j],end=\" \")\n",
    "#     print()\n",
    "df"
   ]
  },
  {
   "cell_type": "code",
   "execution_count": 45,
   "id": "916dcc16",
   "metadata": {},
   "outputs": [],
   "source": [
    "accuracy_dev_data.append(max(df.max()))\n",
    "df.to_csv(r'result-2-2_TF-IDF+stem_dev.csv', header=True)"
   ]
  },
  {
   "cell_type": "code",
   "execution_count": 46,
   "id": "0432eb9e",
   "metadata": {},
   "outputs": [
    {
     "data": {
      "image/png": "[encoded data removed]",
      "text/plain": [
       "<Figure size 720x576 with 1 Axes>"
      ]
     },
     "metadata": {
      "needs_background": "light"
     },
     "output_type": "display_data"
    }
   ],
   "source": [
    "fig=plt.figure(figsize=(10,8))\n",
    "x=[1,2,3,4,5,6]\n",
    "plt.plot(x,accuraciest1[0],label=\"C=0.01\")\n",
    "plt.plot(x,accuraciest1[1],label=\"C=0.1\")\n",
    "plt.plot(x,accuraciest1[2],label=\"C=1\")\n",
    "plt.plot(x,accuraciest1[3],label=\"C=10\")\n",
    "plt.plot(x,accuraciest1[4],label=\"C=100\")\n",
    "plt.xlabel(\"N-grams\")\n",
    "plt.ylabel(\"Accuracies\")\n",
    "plt.title(\"Stemming + TF-IDF: Accuracies on Train Data\")\n",
    "plt.legend()\n",
    "plt.show()"
   ]
  },
  {
   "cell_type": "code",
   "execution_count": 47,
   "id": "5ec8c37a",
   "metadata": {},
   "outputs": [
    {
     "data": {
      "image/png": "[encoded data removed]",
      "text/plain": [
       "<Figure size 720x576 with 1 Axes>"
      ]
     },
     "metadata": {
      "needs_background": "light"
     },
     "output_type": "display_data"
    }
   ],
   "source": [
    "fig=plt.figure(figsize=(10,8))\n",
    "x=[1,2,3,4,5,6]\n",
    "plt.plot(x,accuraciesd1[0],label=\"C=0.01\")\n",
    "plt.plot(x,accuraciesd1[1],label=\"C=0.1\")\n",
    "plt.plot(x,accuraciesd1[2],label=\"C=1\")\n",
    "plt.plot(x,accuraciesd1[3],label=\"C=10\")\n",
    "plt.plot(x,accuraciesd1[4],label=\"C=100\")\n",
    "plt.xlabel(\"N-grams\")\n",
    "plt.ylabel(\"Accuracies\")\n",
    "plt.title(\"Stemming + TF-IDF: Accuracies on Dev Data\")\n",
    "plt.legend()\n",
    "plt.show()"
   ]
  },
  {
   "cell_type": "markdown",
   "id": "9e1cf422",
   "metadata": {},
   "source": [
    "# Method 6: TF-IDF on Independent Feature Engineering Method 3 Lammentization"
   ]
  },
  {
   "cell_type": "code",
   "execution_count": 48,
   "id": "791de4af",
   "metadata": {},
   "outputs": [],
   "source": [
    "lemmatizer = WordNetLemmatizer()"
   ]
  },
  {
   "cell_type": "code",
   "execution_count": 49,
   "id": "a9e7d645",
   "metadata": {},
   "outputs": [],
   "source": [
    "def lammentization(sentence):\n",
    "    sentence=sentence.lower()\n",
    "    arli=[]\n",
    "    for i in sentence.split(\" \"):\n",
    "        arli.append(lemmatizer.lemmatize(i))\n",
    "    return(arli)"
   ]
  },
  {
   "cell_type": "code",
   "execution_count": 50,
   "id": "45976666",
   "metadata": {},
   "outputs": [],
   "source": [
    "regularizer=[0.01,0.1,1,10,100]\n",
    "ngram=7\n",
    "accuraciest1=[]\n",
    "accuraciesd1=[]\n",
    "for j in regularizer:\n",
    "    valuest=[]\n",
    "    valuesd=[]\n",
    "    for i in range(1,ngram):\n",
    "        vectorizer = TfidfVectorizer(tokenizer=lammentization, ngram_range=(1, i))\n",
    "#         print(f\"The value of ngram={i},value of regularizer={j}\")\n",
    "        XTrain = vectorizer.fit_transform(train_data)\n",
    "        devTrain=vectorizer.transform(dev_data)\n",
    "        tfidf = LogisticRegression(random_state=0, solver='lbfgs', max_iter=10000,C=j)\n",
    "        tfidf.fit(XTrain, trainy)\n",
    "        valuest.append(round(evaluate1(XTrain, trainy, tfidf, 'train'),8))\n",
    "        valuesd.append(round(evaluate1(devTrain, devy, tfidf, 'dev'),8))\n",
    "    accuraciest1.append(valuest)\n",
    "    accuraciesd1.append(valuesd)"
   ]
  },
  {
   "cell_type": "code",
   "execution_count": 51,
   "id": "d809aec6",
   "metadata": {},
   "outputs": [
    {
     "name": "stdout",
     "output_type": "stream",
     "text": [
      "Accuracies on Train\n"
     ]
    },
    {
     "data": {
      "text/html": [
       "<div>\n",
       "<style scoped>\n",
       "    .dataframe tbody tr th:only-of-type {\n",
       "        vertical-align: middle;\n",
       "    }\n",
       "\n",
       "    .dataframe tbody tr th {\n",
       "        vertical-align: top;\n",
       "    }\n",
       "\n",
       "    .dataframe thead th {\n",
       "        text-align: right;\n",
       "    }\n",
       "</style>\n",
       "<table border=\"1\" class=\"dataframe\">\n",
       "  <thead>\n",
       "    <tr style=\"text-align: right;\">\n",
       "      <th></th>\n",
       "      <th>1-gram</th>\n",
       "      <th>2-gram</th>\n",
       "      <th>3-gram</th>\n",
       "      <th>4-gram</th>\n",
       "      <th>5-gram</th>\n",
       "      <th>6-gram</th>\n",
       "    </tr>\n",
       "  </thead>\n",
       "  <tbody>\n",
       "    <tr>\n",
       "      <th>C=0.01</th>\n",
       "      <td>0.778699</td>\n",
       "      <td>0.852466</td>\n",
       "      <td>0.906155</td>\n",
       "      <td>0.945875</td>\n",
       "      <td>0.971410</td>\n",
       "      <td>0.984723</td>\n",
       "    </tr>\n",
       "    <tr>\n",
       "      <th>C=0.1</th>\n",
       "      <td>0.807508</td>\n",
       "      <td>0.869926</td>\n",
       "      <td>0.919249</td>\n",
       "      <td>0.954168</td>\n",
       "      <td>0.976430</td>\n",
       "      <td>0.987124</td>\n",
       "    </tr>\n",
       "    <tr>\n",
       "      <th>C=1</th>\n",
       "      <td>0.899825</td>\n",
       "      <td>0.955696</td>\n",
       "      <td>0.983850</td>\n",
       "      <td>0.994762</td>\n",
       "      <td>0.997381</td>\n",
       "      <td>0.998691</td>\n",
       "    </tr>\n",
       "    <tr>\n",
       "      <th>C=10</th>\n",
       "      <td>0.994544</td>\n",
       "      <td>1.000000</td>\n",
       "      <td>1.000000</td>\n",
       "      <td>1.000000</td>\n",
       "      <td>1.000000</td>\n",
       "      <td>1.000000</td>\n",
       "    </tr>\n",
       "    <tr>\n",
       "      <th>C=100</th>\n",
       "      <td>1.000000</td>\n",
       "      <td>1.000000</td>\n",
       "      <td>1.000000</td>\n",
       "      <td>1.000000</td>\n",
       "      <td>1.000000</td>\n",
       "      <td>1.000000</td>\n",
       "    </tr>\n",
       "  </tbody>\n",
       "</table>\n",
       "</div>"
      ],
      "text/plain": [
       "          1-gram    2-gram    3-gram    4-gram    5-gram    6-gram\n",
       "C=0.01  0.778699  0.852466  0.906155  0.945875  0.971410  0.984723\n",
       "C=0.1   0.807508  0.869926  0.919249  0.954168  0.976430  0.987124\n",
       "C=1     0.899825  0.955696  0.983850  0.994762  0.997381  0.998691\n",
       "C=10    0.994544  1.000000  1.000000  1.000000  1.000000  1.000000\n",
       "C=100   1.000000  1.000000  1.000000  1.000000  1.000000  1.000000"
      ]
     },
     "execution_count": 51,
     "metadata": {},
     "output_type": "execute_result"
    }
   ],
   "source": [
    "accuraciestpd = np.array(accuraciest1)\n",
    "print(\"Accuracies on Train\")\n",
    "df = pd.DataFrame(accuraciest1,     index=[\"C=0.01\",\"C=0.1\",\"C=1\",\"C=10\",\"C=100\"],\n",
    "                 columns=['1-gram', '2-gram','3-gram','4-gram','5-gram','6-gram'])\n",
    "# for i in range(len(accuraciest)):\n",
    "#     print(\"C=\",regularizer[i],end=\"\\t\\t\")\n",
    "#     for j in range(len(accuraciest[0])):\n",
    "#         print(j,\"-gram\",accuraciest[i][j],end=\" \")\n",
    "#     print()\n",
    "df"
   ]
  },
  {
   "cell_type": "code",
   "execution_count": 52,
   "id": "992f8eb9",
   "metadata": {},
   "outputs": [],
   "source": [
    "accuracy_train_data.append(max(df.max()))\n",
    "df.to_csv(r'result-2-2_TF-IDF+lemmat_train.csv', header=True)"
   ]
  },
  {
   "cell_type": "code",
   "execution_count": 53,
   "id": "2ea72386",
   "metadata": {},
   "outputs": [
    {
     "name": "stdout",
     "output_type": "stream",
     "text": [
      "Accuracies on Dev\n"
     ]
    },
    {
     "data": {
      "text/html": [
       "<div>\n",
       "<style scoped>\n",
       "    .dataframe tbody tr th:only-of-type {\n",
       "        vertical-align: middle;\n",
       "    }\n",
       "\n",
       "    .dataframe tbody tr th {\n",
       "        vertical-align: top;\n",
       "    }\n",
       "\n",
       "    .dataframe thead th {\n",
       "        text-align: right;\n",
       "    }\n",
       "</style>\n",
       "<table border=\"1\" class=\"dataframe\">\n",
       "  <thead>\n",
       "    <tr style=\"text-align: right;\">\n",
       "      <th></th>\n",
       "      <th>1-gram</th>\n",
       "      <th>2-gram</th>\n",
       "      <th>3-gram</th>\n",
       "      <th>4-gram</th>\n",
       "      <th>5-gram</th>\n",
       "      <th>6-gram</th>\n",
       "    </tr>\n",
       "  </thead>\n",
       "  <tbody>\n",
       "    <tr>\n",
       "      <th>C=0.01</th>\n",
       "      <td>0.716157</td>\n",
       "      <td>0.729258</td>\n",
       "      <td>0.735808</td>\n",
       "      <td>0.735808</td>\n",
       "      <td>0.735808</td>\n",
       "      <td>0.735808</td>\n",
       "    </tr>\n",
       "    <tr>\n",
       "      <th>C=0.1</th>\n",
       "      <td>0.722707</td>\n",
       "      <td>0.759825</td>\n",
       "      <td>0.751092</td>\n",
       "      <td>0.751092</td>\n",
       "      <td>0.746725</td>\n",
       "      <td>0.740175</td>\n",
       "    </tr>\n",
       "    <tr>\n",
       "      <th>C=1</th>\n",
       "      <td>0.755459</td>\n",
       "      <td>0.775109</td>\n",
       "      <td>0.770742</td>\n",
       "      <td>0.770742</td>\n",
       "      <td>0.772926</td>\n",
       "      <td>0.775109</td>\n",
       "    </tr>\n",
       "    <tr>\n",
       "      <th>C=10</th>\n",
       "      <td>0.770742</td>\n",
       "      <td>0.796943</td>\n",
       "      <td>0.781659</td>\n",
       "      <td>0.779476</td>\n",
       "      <td>0.775109</td>\n",
       "      <td>0.772926</td>\n",
       "    </tr>\n",
       "    <tr>\n",
       "      <th>C=100</th>\n",
       "      <td>0.770742</td>\n",
       "      <td>0.794760</td>\n",
       "      <td>0.783843</td>\n",
       "      <td>0.790393</td>\n",
       "      <td>0.783843</td>\n",
       "      <td>0.777293</td>\n",
       "    </tr>\n",
       "  </tbody>\n",
       "</table>\n",
       "</div>"
      ],
      "text/plain": [
       "          1-gram    2-gram    3-gram    4-gram    5-gram    6-gram\n",
       "C=0.01  0.716157  0.729258  0.735808  0.735808  0.735808  0.735808\n",
       "C=0.1   0.722707  0.759825  0.751092  0.751092  0.746725  0.740175\n",
       "C=1     0.755459  0.775109  0.770742  0.770742  0.772926  0.775109\n",
       "C=10    0.770742  0.796943  0.781659  0.779476  0.775109  0.772926\n",
       "C=100   0.770742  0.794760  0.783843  0.790393  0.783843  0.777293"
      ]
     },
     "execution_count": 53,
     "metadata": {},
     "output_type": "execute_result"
    }
   ],
   "source": [
    "accuraciesdpd = np.array(accuraciesd1)\n",
    "print(\"Accuracies on Dev\")\n",
    "df = pd.DataFrame(accuraciesd1,     index=[\"C=0.01\",\"C=0.1\",\"C=1\",\"C=10\",\"C=100\"],\n",
    "                 columns=['1-gram', '2-gram','3-gram','4-gram','5-gram','6-gram'])\n",
    "# for i in range(len(accuraciest)):\n",
    "#     print(\"C=\",regularizer[i],end=\"\\t\\t\")\n",
    "#     for j in range(len(accuraciest[0])):\n",
    "#         print(j,\"-gram\",accuraciest[i][j],end=\" \")\n",
    "#     print()\n",
    "df"
   ]
  },
  {
   "cell_type": "code",
   "execution_count": 54,
   "id": "693efd7c",
   "metadata": {},
   "outputs": [],
   "source": [
    "accuracy_dev_data.append(max(df.max()))\n",
    "df.to_csv(r'result-2-2_TF-IDF+lemmat_dev.csv', header=True)"
   ]
  },
  {
   "cell_type": "code",
   "execution_count": 55,
   "id": "1f479149",
   "metadata": {},
   "outputs": [
    {
     "data": {
      "image/png": "[encoded data removed]",
      "text/plain": [
       "<Figure size 720x576 with 1 Axes>"
      ]
     },
     "metadata": {
      "needs_background": "light"
     },
     "output_type": "display_data"
    }
   ],
   "source": [
    "fig=plt.figure(figsize=(10,8))\n",
    "x=[1,2,3,4,5,6]\n",
    "plt.plot(x,accuraciest1[0],label=\"C=0.01\")\n",
    "plt.plot(x,accuraciest1[1],label=\"C=0.1\")\n",
    "plt.plot(x,accuraciest1[2],label=\"C=1\")\n",
    "plt.plot(x,accuraciest1[3],label=\"C=10\")\n",
    "plt.plot(x,accuraciest1[4],label=\"C=100\")\n",
    "plt.xlabel(\"N-grams\")\n",
    "plt.ylabel(\"Accuracies\")\n",
    "plt.title(\"Lammentization + TF-IDF: Accuracies on Train Data\")\n",
    "plt.legend()\n",
    "plt.show()"
   ]
  },
  {
   "cell_type": "code",
   "execution_count": 56,
   "id": "77436c16",
   "metadata": {},
   "outputs": [
    {
     "data": {
      "image/png": "[encoded data removed]",
      "text/plain": [
       "<Figure size 720x576 with 1 Axes>"
      ]
     },
     "metadata": {
      "needs_background": "light"
     },
     "output_type": "display_data"
    }
   ],
   "source": [
    "fig=plt.figure(figsize=(10,8))\n",
    "x=[1,2,3,4,5,6]\n",
    "plt.plot(x,accuraciesd1[0],label=\"C=0.01\")\n",
    "plt.plot(x,accuraciesd1[1],label=\"C=0.1\")\n",
    "plt.plot(x,accuraciesd1[2],label=\"C=1\")\n",
    "plt.plot(x,accuraciesd1[3],label=\"C=10\")\n",
    "plt.plot(x,accuraciesd1[4],label=\"C=100\")\n",
    "plt.xlabel(\"N-grams\")\n",
    "plt.ylabel(\"Accuracies\")\n",
    "plt.title(\"Lammentization + TF-IDF: Accuracies on Dev Data\")\n",
    "plt.legend()\n",
    "plt.show()"
   ]
  },
  {
   "cell_type": "markdown",
   "id": "0b23a3b7",
   "metadata": {},
   "source": [
    "# Comparisions"
   ]
  },
  {
   "cell_type": "code",
   "execution_count": 57,
   "id": "eafd9d72",
   "metadata": {},
   "outputs": [
    {
     "data": {
      "text/html": [
       "<div>\n",
       "<style scoped>\n",
       "    .dataframe tbody tr th:only-of-type {\n",
       "        vertical-align: middle;\n",
       "    }\n",
       "\n",
       "    .dataframe tbody tr th {\n",
       "        vertical-align: top;\n",
       "    }\n",
       "\n",
       "    .dataframe thead th {\n",
       "        text-align: right;\n",
       "    }\n",
       "</style>\n",
       "<table border=\"1\" class=\"dataframe\">\n",
       "  <thead>\n",
       "    <tr style=\"text-align: right;\">\n",
       "      <th></th>\n",
       "      <th>Accuracies on Train Data</th>\n",
       "    </tr>\n",
       "  </thead>\n",
       "  <tbody>\n",
       "    <tr>\n",
       "      <th>Base Model</th>\n",
       "      <td>0.982104</td>\n",
       "    </tr>\n",
       "    <tr>\n",
       "      <th>Stop Words Remmoval</th>\n",
       "      <td>0.982759</td>\n",
       "    </tr>\n",
       "    <tr>\n",
       "      <th>Stemming</th>\n",
       "      <td>0.975120</td>\n",
       "    </tr>\n",
       "    <tr>\n",
       "      <th>Lammentization</th>\n",
       "      <td>0.993453</td>\n",
       "    </tr>\n",
       "    <tr>\n",
       "      <th>Stop Words Remmoval + TF-IDF</th>\n",
       "      <td>1.000000</td>\n",
       "    </tr>\n",
       "    <tr>\n",
       "      <th>Stemming + TF-IDF</th>\n",
       "      <td>1.000000</td>\n",
       "    </tr>\n",
       "    <tr>\n",
       "      <th>Lammentization + TF-IDF</th>\n",
       "      <td>1.000000</td>\n",
       "    </tr>\n",
       "  </tbody>\n",
       "</table>\n",
       "</div>"
      ],
      "text/plain": [
       "                              Accuracies on Train Data\n",
       "Base Model                                    0.982104\n",
       "Stop Words Remmoval                           0.982759\n",
       "Stemming                                      0.975120\n",
       "Lammentization                                0.993453\n",
       "Stop Words Remmoval + TF-IDF                  1.000000\n",
       "Stemming + TF-IDF                             1.000000\n",
       "Lammentization + TF-IDF                       1.000000"
      ]
     },
     "execution_count": 57,
     "metadata": {},
     "output_type": "execute_result"
    }
   ],
   "source": [
    "df = pd.DataFrame(accuracy_train_data,     index=[\"Base Model\",\"Stop Words Remmoval\",\"Stemming\",\"Lammentization\",\"Stop Words Remmoval + TF-IDF\",\"Stemming + TF-IDF\",\"Lammentization + TF-IDF\"],\n",
    "                 columns=[\"Accuracies on Train Data\"])\n",
    "df"
   ]
  },
  {
   "cell_type": "code",
   "execution_count": 58,
   "id": "3428067d",
   "metadata": {},
   "outputs": [],
   "source": [
    "df.to_csv(r'final_comparision_train.csv', header=True)"
   ]
  },
  {
   "cell_type": "code",
   "execution_count": 59,
   "id": "0c19a394",
   "metadata": {},
   "outputs": [
    {
     "data": {
      "text/html": [
       "<div>\n",
       "<style scoped>\n",
       "    .dataframe tbody tr th:only-of-type {\n",
       "        vertical-align: middle;\n",
       "    }\n",
       "\n",
       "    .dataframe tbody tr th {\n",
       "        vertical-align: top;\n",
       "    }\n",
       "\n",
       "    .dataframe thead th {\n",
       "        text-align: right;\n",
       "    }\n",
       "</style>\n",
       "<table border=\"1\" class=\"dataframe\">\n",
       "  <thead>\n",
       "    <tr style=\"text-align: right;\">\n",
       "      <th></th>\n",
       "      <th>Accuracies on Dev Data</th>\n",
       "    </tr>\n",
       "  </thead>\n",
       "  <tbody>\n",
       "    <tr>\n",
       "      <th>Base Model</th>\n",
       "      <td>0.777293</td>\n",
       "    </tr>\n",
       "    <tr>\n",
       "      <th>Stop Words Remmoval</th>\n",
       "      <td>0.766376</td>\n",
       "    </tr>\n",
       "    <tr>\n",
       "      <th>Stemming</th>\n",
       "      <td>0.770742</td>\n",
       "    </tr>\n",
       "    <tr>\n",
       "      <th>Lammentization</th>\n",
       "      <td>0.770742</td>\n",
       "    </tr>\n",
       "    <tr>\n",
       "      <th>Stop Words Remmoval + TF-IDF</th>\n",
       "      <td>0.783843</td>\n",
       "    </tr>\n",
       "    <tr>\n",
       "      <th>Stemming + TF-IDF</th>\n",
       "      <td>0.803493</td>\n",
       "    </tr>\n",
       "    <tr>\n",
       "      <th>Lammentization + TF-IDF</th>\n",
       "      <td>0.796943</td>\n",
       "    </tr>\n",
       "  </tbody>\n",
       "</table>\n",
       "</div>"
      ],
      "text/plain": [
       "                              Accuracies on Dev Data\n",
       "Base Model                                  0.777293\n",
       "Stop Words Remmoval                         0.766376\n",
       "Stemming                                    0.770742\n",
       "Lammentization                              0.770742\n",
       "Stop Words Remmoval + TF-IDF                0.783843\n",
       "Stemming + TF-IDF                           0.803493\n",
       "Lammentization + TF-IDF                     0.796943"
      ]
     },
     "execution_count": 59,
     "metadata": {},
     "output_type": "execute_result"
    }
   ],
   "source": [
    "df = pd.DataFrame(accuracy_dev_data,        index=[\"Base Model\",\"Stop Words Remmoval\",\"Stemming\",\"Lammentization\",\"Stop Words Remmoval + TF-IDF\",\"Stemming + TF-IDF\",\"Lammentization + TF-IDF\"],\n",
    "                 columns=[\"Accuracies on Dev Data\"])\n",
    "df"
   ]
  },
  {
   "cell_type": "code",
   "execution_count": 60,
   "id": "b5f42407",
   "metadata": {},
   "outputs": [],
   "source": [
    "df.to_csv(r'final_comparision_dev.csv', header=True)"
   ]
  },
  {
   "cell_type": "code",
   "execution_count": 61,
   "id": "da6760e2",
   "metadata": {
    "scrolled": false
   },
   "outputs": [
    {
     "data": {
      "image/png": "[encoded data removed]",
      "text/plain": [
       "<Figure size 1080x720 with 1 Axes>"
      ]
     },
     "metadata": {
      "needs_background": "light"
     },
     "output_type": "display_data"
    }
   ],
   "source": [
    "fig=plt.figure(figsize=(15,10))\n",
    "x=[\"Base Model\",\"Stop Words Remmoval\",\"Stemming\",\"Lammentization\",\"Stop Words Remmoval + TF-IDF\",\"Stemming + TF-IDF\",\"Lammentization + TF-IDF\"]\n",
    "plt.scatter(x,accuracy_train_data,s=100)\n",
    "plt.xlabel(\"Feature Engineering Techniques\")\n",
    "plt.ylabel(\"Accuracies\")\n",
    "plt.title(\"Comparision of models for different Independent Feature Engineering on Train Data\")\n",
    "plt.grid()\n",
    "plt.show()"
   ]
  },
  {
   "cell_type": "code",
   "execution_count": 62,
   "id": "88458a8b",
   "metadata": {
    "scrolled": false
   },
   "outputs": [
    {
     "data": {
      "image/png": "[encoded data removed]",
      "text/plain": [
       "<Figure size 1080x720 with 1 Axes>"
      ]
     },
     "metadata": {
      "needs_background": "light"
     },
     "output_type": "display_data"
    }
   ],
   "source": [
    "fig=plt.figure(figsize=(15,10))\n",
    "x=[\"Base Model\",\"Stop Words\",\"Stemming\",\"Lammentization\",\"Stop Words+TF-IDF\",\"Stemming+TF-IDF\",\"Lammentization+TF-IDF\"]\n",
    "plt.scatter(x,accuracy_dev_data,s=100)\n",
    "plt.xlabel(\"Feature Engineering Techniques\")\n",
    "plt.ylabel(\"Accuracies\")\n",
    "plt.title(\"Comparision of models for different Independent Feature Engineering on Dev Data\")\n",
    "plt.grid()\n",
    "plt.show()"
   ]
  }
 ],
 "metadata": {
  "kernelspec": {
   "display_name": "Python 3 (ipykernel)",
   "language": "python",
   "name": "python3"
  },
  "language_info": {
   "codemirror_mode": {
    "name": "ipython",
    "version": 3
   },
   "file_extension": ".py",
   "mimetype": "text/x-python",
   "name": "python",
   "nbconvert_exporter": "python",
   "pygments_lexer": "ipython3",
   "version": "3.7.11"
  }
 },
 "nbformat": 4,
 "nbformat_minor": 5
}
